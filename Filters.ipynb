{
 "cells": [
  {
   "cell_type": "markdown",
   "metadata": {},
   "source": [
    "2D Convolution ( Image Filtering )\n",
    "\n",
    "As in one-dimensional signals, images also can be filtered with various low-pass filters(LPF), high-pass filters(HPF) etc. LPF helps in removing noises, blurring the images etc. HPF filters helps in finding edges in the images.\n"
   ]
  },
  {
   "cell_type": "code",
   "execution_count": null,
   "metadata": {
    "collapsed": true
   },
   "outputs": [],
   "source": [
    "import cv2\n",
    "import numpy as np\n",
    "from matplotlib import pyplot as plt"
   ]
  },
  {
   "cell_type": "code",
   "execution_count": null,
   "metadata": {
    "collapsed": false
   },
   "outputs": [],
   "source": [
    "image = cv2.imread('data/image1.jpg')\n",
    "plt.imshow(image),plt.title('Original')\n",
    "plt.show()\n"
   ]
  },
  {
   "cell_type": "markdown",
   "metadata": {},
   "source": [
    "AVERAGE FILTER"
   ]
  },
  {
   "cell_type": "code",
   "execution_count": null,
   "metadata": {
    "collapsed": true
   },
   "outputs": [],
   "source": [
    "# 5X5 ones matrix and divide them with 25 (5X5)\n",
    "kernel = np.ones((5,5),np.float32)/25\n",
    "output1 = cv2.filter2D(image,-1,kernel) #Apply kernel as filter using Convolution (Convolution is the most important topic in signal processing)\n",
    "\n",
    "#prevent GUI Crash\n",
    "cv2.startWindowThread()\n",
    "#Step 3:- Display an image to the User\n",
    "cv2.imwrite(\"outputs/output.png\",output1) \n",
    "#cv2.imshow(\"Averaging\",output1)\n",
    "#Step 4:- Capture anystroke from the user\n",
    "cv2.waitKey(0)\n",
    "#Step 5:- Destroy all the previously created instances\n",
    "cv2.destroyAllWindows()"
   ]
  },
  {
   "cell_type": "markdown",
   "metadata": {},
   "source": [
    "1) AVERAGE FILTER WITHOUT KERNEL AND CONVOLUTION ( directly using cv2.blur() )"
   ]
  },
  {
   "cell_type": "code",
   "execution_count": null,
   "metadata": {
    "collapsed": true
   },
   "outputs": [],
   "source": [
    "blur = cv2.blur(image,(5,5)) #apply simplest average filter (blur filter) using 5X5 kernel matrix \n",
    "#prevent GUI Crash\n",
    "cv2.startWindowThread()\n",
    "#Step 3:- Display an image to the User\n",
    "cv2.imwrite(\"outputs/blur.png\",blur) \n",
    "\n",
    "#cv2.imshow(\"BLUR\",blur)\n",
    "\n",
    "#Step 4:- Capture anystroke from the user\n",
    "cv2.waitKey(0)\n",
    "#Step 5:- Destroy all the previously created instances\n",
    "cv2.destroyAllWindows()"
   ]
  },
  {
   "cell_type": "markdown",
   "metadata": {},
   "source": [
    "2) GAUSSIAN BLURRING\n",
    "\n",
    "In this, instead of box filter, gaussian kernel is used. It is done with the function, cv2.GaussianBlur(). We should specify the width and height of kernel which should be positive and odd. We also should specify the standard deviation in X and Y direction, sigmaX and sigmaY respectively. If only sigmaX is specified, sigmaY is taken as same as sigmaX. If both are given as zeros, they are calculated from kernel size. Gaussian blurring is highly effective in removing gaussian noise from the image.\n",
    "\n",
    "If you want, you can create a Gaussian kernel with the function, cv2.getGaussianKernel()."
   ]
  },
  {
   "cell_type": "code",
   "execution_count": null,
   "metadata": {
    "collapsed": true
   },
   "outputs": [],
   "source": [
    "#Applying Gaussian Blur Filter for removing Gaussian Noise\n",
    "gaussianBlur = cv2.GaussianBlur(image,(5,5),0)\n",
    "#prevent GUI Crash\n",
    "cv2.startWindowThread()\n",
    "#Step 3:- Display an image to the User\n",
    "cv2.imwrite(\"outputs/gaussianBlur.png\",gaussianBlur) \n",
    "\n",
    "#cv2.imshow(\"Gaussian Blur\",gaussianBlur)\n",
    "#Step 4:- Capture anystroke from the user\n",
    "cv2.waitKey(0)\n",
    "#Step 5:- Destroy all the previously created instances\n",
    "cv2.destroyAllWindows()"
   ]
  },
  {
   "cell_type": "markdown",
   "metadata": {},
   "source": [
    "3) MEDIAN BLURRING\n",
    "\n",
    "\n",
    "Here, the function cv2.medianBlur() takes median of all the pixels under kernel area and central element is replaced with this median value. This is highly effective against salt-and-pepper noise in the images. Interesting thing is that, in the above filters, central element is a newly calculated value which may be a pixel value in the image or a new value. But in median blurring, central element is always replaced by some pixel value in the image. It reduces the noise effectively. Its kernel size should be a positive odd integer.\n",
    "\n",
    "In this demo, I added a 50% noise to our original image and applied median blur."
   ]
  },
  {
   "cell_type": "code",
   "execution_count": null,
   "metadata": {
    "collapsed": true
   },
   "outputs": [],
   "source": [
    "salt_pepper_noised_image = cv2.imread('data/sp_noised.jpg')\n",
    "median = cv2.medianBlur(salt_pepper_noised_image,5) #Remove salt and pepper noise with median filter\n",
    "\n",
    "\n",
    "#prevent GUI Crash\n",
    "cv2.startWindowThread()\n",
    "#Step 3:- Display an image to the User\n",
    "\n",
    "cv2.imwrite(\"outputs/salt_pepper_noised_image.png\",salt_pepper_noised_image) \n",
    "\n",
    "cv2.imwrite(\"outputs/median.png\",median) \n",
    "\n",
    "#cv2.imshow(\"Noised Image\",salt_pepper_noised_image)\n",
    "#cv2.imshow(\"Median Blur\",median)\n",
    "#Step 4:- Capture anystroke from the user\n",
    "cv2.waitKey(0)\n",
    "#Step 5:- Destroy all the previously created instances\n",
    "cv2.destroyAllWindows()\n"
   ]
  },
  {
   "cell_type": "markdown",
   "metadata": {},
   "source": [
    "4) BILATERAL FILTERING\n",
    "\n",
    "\n",
    "cv2.bilateralFilter() is highly effective in noise removal while keeping edges sharp. But the operation is slower compared to other filters. We already saw that gaussian filter takes the a neighbourhood around the pixel and find its gaussian weighted average. This gaussian filter is a function of space alone, that is, nearby pixels are considered while filtering. It doesn't consider whether pixels have almost same intensity. It doesn't consider whether pixel is an edge pixel or not. So it blurs the edges also, which we don't want to do.\n",
    "\n",
    "Bilateral filter also takes a gaussian filter in space, but one more gaussian filter which is a function of pixel difference. Gaussian function of space make sure only nearby pixels are considered for blurring while gaussian function of intensity difference make sure only those pixels with similar intensity to central pixel is considered for blurring. So it preserves the edges since pixels at edges will have large intensity variation."
   ]
  },
  {
   "cell_type": "code",
   "execution_count": null,
   "metadata": {
    "collapsed": true
   },
   "outputs": [],
   "source": [
    "bilateral = cv2.bilateralFilter(image,9,75,75) #Bilateral filtering for smoothing and keeping sharp edges\n",
    "\n",
    "#prevent GUI Crash\n",
    "cv2.startWindowThread()\n",
    "#Step 3:- Display an image to the User\n",
    "\n",
    "cv2.imshow(\"Median Blur\",bilateral)\n",
    "#Step 4:- Capture anystroke from the user\n",
    "cv2.waitKey(0)\n",
    "#Step 5:- Destroy all the previously created instances\n",
    "cv2.destroyAllWindows()"
   ]
  },
  {
   "cell_type": "markdown",
   "metadata": {},
   "source": [
    "More details about bilateral filter , http://people.csail.mit.edu/sparis/bf_course/"
   ]
  },
  {
   "cell_type": "markdown",
   "metadata": {},
   "source": [
    "Source : https://docs.opencv.org/3.1.0/d4/d13/tutorial_py_filtering.html"
   ]
  },
  {
   "cell_type": "code",
   "execution_count": null,
   "metadata": {
    "collapsed": true
   },
   "outputs": [],
   "source": []
  }
 ],
 "metadata": {
  "kernelspec": {
   "display_name": "Python 3",
   "language": "python",
   "name": "python3"
  },
  "language_info": {
   "codemirror_mode": {
    "name": "ipython",
    "version": 3
   },
   "file_extension": ".py",
   "mimetype": "text/x-python",
   "name": "python",
   "nbconvert_exporter": "python",
   "pygments_lexer": "ipython3",
   "version": "3.5.2"
  }
 },
 "nbformat": 4,
 "nbformat_minor": 2
}
