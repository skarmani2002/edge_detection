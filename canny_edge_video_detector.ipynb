{
 "cells": [
  {
   "cell_type": "code",
   "execution_count": null,
   "metadata": {
    "collapsed": true
   },
   "outputs": [],
   "source": [
    "import cv2\n",
    "import numpy as np"
   ]
  },
  {
   "cell_type": "code",
   "execution_count": null,
   "metadata": {
    "collapsed": true
   },
   "outputs": [],
   "source": [
    "#only for TrackBar process\n",
    "def nothing(x):\n",
    "    pass"
   ]
  },
  {
   "cell_type": "code",
   "execution_count": 5,
   "metadata": {
    "collapsed": false
   },
   "outputs": [
    {
     "name": "stdout",
     "output_type": "stream",
     "text": [
      "854.0 480.0\n"
     ]
    }
   ],
   "source": [
    "cap = cv2.VideoCapture(\"videoData/test01.mp4\")\n",
    "fps = 25\n",
    "capSize = (854,480)\n",
    "sizee=854,480,3\n",
    "edge2Vid = np.zeros(sizee,dtype=np.uint8)\n",
    "fourcc = cv2.VideoWriter_fourcc(*\"H264\") #'m', 'p', '4', 'v'\n",
    "out = cv2.VideoWriter()\n",
    "print(cap.get(3),cap.get(4));\n",
    "success = out.open('video_Output/OutputOfEdgeDetection.mp4',fourcc,fps,capSize,False)"
   ]
  },
  {
   "cell_type": "code",
   "execution_count": null,
   "metadata": {
    "collapsed": false
   },
   "outputs": [],
   "source": [
    "switch = '0 : OFF \\n1 : ON'\n",
    "cv2.namedWindow('canny')\n",
    "cv2.createTrackbar(switch, 'canny', 0, 1, nothing)\n",
    "\n",
    "# add lower and upper threshold slidebars to \"canny\"\n",
    "cv2.createTrackbar('lower', 'canny', 0, 255, nothing)\n",
    "cv2.createTrackbar('upper', 'canny', 0, 255, nothing)\n",
    "\n",
    "while cap.isOpened():\n",
    "            ret, image_np = cap.read()\n",
    "            if ret == True:\n",
    "                #image_np = cv2.cvtColor(image_np,cv2.COLOR_BGR2GRAY)\n",
    "                # get current positions of four trackbars\n",
    "                lower = cv2.getTrackbarPos('lower', 'canny')\n",
    "                upper = cv2.getTrackbarPos('upper', 'canny')\n",
    "                s = cv2.getTrackbarPos(switch, 'canny')\n",
    "                print(s)\n",
    "                if s == 0:\n",
    "                    edges = image_np\n",
    "                else:\n",
    "                    edges = cv2.Canny(image_np, 150, 220)\n",
    "                    #edges2Vid = edges\n",
    "\n",
    "                #display images\n",
    "                cv2.imshow('canny', edges)\n",
    "                #edges2 = cv2.cvtColor(edges,cv2.COLOR_GRAY2RGB)\n",
    "                out.write(edges)\n",
    "                if cv2.waitKey(25) & 0xFF == ord('q'):\n",
    "                    cv2.destroyAllWindows()\n",
    "                    #cv2.imwrite(\"outputs/CannyEdgeDetect.jpg\",edges)\n",
    "                    print(image_np.shape)\n",
    "                    print(image_np.dtype)\n",
    "                    print(edges.shape)\n",
    "                    print(edges.dtype)\n",
    "                    break\n",
    "            else:\n",
    "                break\n",
    "\n",
    "cap.release()\n",
    "out.release()               \n",
    "cv2.destroyAllWindows()"
   ]
  },
  {
   "cell_type": "code",
   "execution_count": null,
   "metadata": {
    "collapsed": true
   },
   "outputs": [],
   "source": []
  }
 ],
 "metadata": {
  "kernelspec": {
   "display_name": "Python 3",
   "language": "python",
   "name": "python3"
  },
  "language_info": {
   "codemirror_mode": {
    "name": "ipython",
    "version": 3
   },
   "file_extension": ".py",
   "mimetype": "text/x-python",
   "name": "python",
   "nbconvert_exporter": "python",
   "pygments_lexer": "ipython3",
   "version": "3.5.2"
  }
 },
 "nbformat": 4,
 "nbformat_minor": 1
}
